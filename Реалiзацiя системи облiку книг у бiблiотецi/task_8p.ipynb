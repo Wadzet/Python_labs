{
 "cells": [
  {
   "cell_type": "code",
   "execution_count": 3,
   "metadata": {},
   "outputs": [
    {
     "name": "stdout",
     "output_type": "stream",
     "text": [
      "Викликано load_books з аргументами (<__main__.Library object at 0x10ae04590>, 'books.csv') та {}\n",
      "Викликано add_book з аргументами (<__main__.Library object at 0x10ae04590>, <__main__.Book object at 0x10adeb810>) та {}\n",
      "add_book завершено з результатом None\n",
      "Викликано add_book з аргументами (<__main__.Library object at 0x10ae04590>, <__main__.Book object at 0x10adebe90>) та {}\n",
      "add_book завершено з результатом None\n",
      "Викликано add_book з аргументами (<__main__.Library object at 0x10ae04590>, <__main__.Book object at 0x10adeb710>) та {}\n",
      "add_book завершено з результатом None\n",
      "Викликано add_book з аргументами (<__main__.Library object at 0x10ae04590>, <__main__.Book object at 0x10adeb990>) та {}\n",
      "add_book завершено з результатом None\n",
      "load_books завершено з результатом None\n",
      "Викликано add_book з аргументами (<__main__.Library object at 0x10ae04590>, <__main__.Book object at 0x10adeadd0>) та {}\n",
      "add_book завершено з результатом None\n",
      "Викликано find_books з аргументами (<__main__.Library object at 0x10ae04590>,) та {'author': 'Автор'}\n",
      "find_books завершено з результатом [<__main__.Book object at 0x10adeb810>, <__main__.Book object at 0x10adeadd0>]\n",
      "Викликано save_books з аргументами (<__main__.Library object at 0x10ae04590>, 'updated_books.csv') та {}\n",
      "save_books завершено з результатом None\n"
     ]
    }
   ],
   "source": [
    "import csv\n",
    "\n",
    "\n",
    "def logger(func):\n",
    "    def wrapper(*args, **kwargs):\n",
    "        print(f\"Викликано {func.__name__} з аргументами {args} та {kwargs}\")\n",
    "        result = func(*args, **kwargs)\n",
    "        print(f\"{func.__name__} завершено з результатом {result}\")\n",
    "        return result\n",
    "    return wrapper\n",
    "\n",
    "class Book:\n",
    "    \n",
    "    def __init__(self, title, author, year, genre):\n",
    "        self.title = title  \n",
    "        self.author = author\n",
    "        self.year = year\n",
    "        self.genre = genre\n",
    "\n",
    "    def __str__(self):\n",
    "        return f\"{self.title} by {self.author}, {self.year}, {self.genre}\"\n",
    "\n",
    "class Library:\n",
    "    def __init__(self):\n",
    "        self.books = [] \n",
    "\n",
    "    @logger  \n",
    "    def add_book(self, book):\n",
    "        self.books.append(book)  \n",
    "\n",
    "    @logger\n",
    "    def find_books(self, **kwargs):\n",
    "        results = []\n",
    "        for book in self.books:\n",
    "            if all(getattr(book, key) == value for key, value in kwargs.items()):\n",
    "                results.append(book)\n",
    "        return results\n",
    "\n",
    "    @logger\n",
    "    def load_books(self, filename):\n",
    "        with open(filename, 'r') as file:\n",
    "            reader = csv.reader(file)\n",
    "            for row in reader:\n",
    "                if row:\n",
    "                    self.add_book(Book(*row))\n",
    "\n",
    "    @logger\n",
    "    def save_books(self, filename):\n",
    "        with open(filename, 'w') as file:\n",
    "            writer = csv.writer(file)\n",
    "            for book in self.books:\n",
    "                writer.writerow([book.title, book.author, book.year, book.genre])\n",
    "\n",
    "\n",
    "library = Library()\n",
    "library.load_books('books.csv')\n",
    "library.add_book(Book('Шоста книга', 'Автор', 2021, 'Жанр'))\n",
    "found_books = library.find_books(author='Автор')\n",
    "library.save_books('updated_books.csv')\n"
   ]
  }
 ],
 "metadata": {
  "kernelspec": {
   "display_name": "Python 3",
   "language": "python",
   "name": "python3"
  },
  "language_info": {
   "codemirror_mode": {
    "name": "ipython",
    "version": 3
   },
   "file_extension": ".py",
   "mimetype": "text/x-python",
   "name": "python",
   "nbconvert_exporter": "python",
   "pygments_lexer": "ipython3",
   "version": "3.11.5"
  }
 },
 "nbformat": 4,
 "nbformat_minor": 2
}
