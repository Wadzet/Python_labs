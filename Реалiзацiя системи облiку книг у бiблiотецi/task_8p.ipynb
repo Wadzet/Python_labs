{
 "cells": [
  {
   "cell_type": "code",
   "execution_count": 1,
   "metadata": {},
   "outputs": [
    {
     "name": "stdout",
     "output_type": "stream",
     "text": [
      "Running 'load_books_from_csv' with arguments ('books.csv',) {}\n",
      "Running 'add_book' with arguments (<__main__.Book object at 0x1065a8510>,) {}\n",
      "Running 'add_book' with arguments (<__main__.Book object at 0x1065a8650>,) {}\n",
      "Running 'add_book' with arguments (<__main__.Book object at 0x1065a8910>,) {}\n",
      "Running 'add_book' with arguments (<__main__.Book object at 0x1065a8f50>,) {}\n",
      "Running 'add_book' with arguments (<__main__.Book object at 0x106560b90>,) {}\n",
      "Running 'find_books' with arguments () {'author': 'Author'}\n",
      "Running 'save_books_to_csv' with arguments ('updated_books.csv',) {}\n"
     ]
    }
   ],
   "source": [
    "import csv\n",
    "from functools import wraps\n",
    "\n",
    "def logger(func):\n",
    "    @wraps(func)\n",
    "    def wrapper(*args, **kwargs):\n",
    "        print(f\"Running '{func.__name__}' with arguments {args[1:]} {kwargs}\")\n",
    "        return func(*args, **kwargs)\n",
    "    return wrapper\n",
    "\n",
    "class Book:\n",
    "    def __init__(self, title, author, year, genre):\n",
    "        self.title = title \n",
    "        self.author = author  \n",
    "        self.year = year  \n",
    "        self.genre = genre  \n",
    "\n",
    "class Library:\n",
    "    def __init__(self):\n",
    "        self.books = []  \n",
    "\n",
    "    @logger\n",
    "    def add_book(self, book):\n",
    "        self.books.append(book) \n",
    "\n",
    "    @logger\n",
    "    def find_books(self, **kwargs):\n",
    "        result = []\n",
    "        for book in self.books:\n",
    "            if all(getattr(book, key) == value for key, value in kwargs.items()):\n",
    "                result.append(book)\n",
    "        return result\n",
    "\n",
    "    @logger\n",
    "    def load_books_from_csv(self, filename):\n",
    "        with open(filename, 'r', newline='', encoding='utf-8') as file:\n",
    "            reader = csv.reader(file)\n",
    "            for row in reader:\n",
    "                if row: \n",
    "                    self.add_book(Book(*row))\n",
    "\n",
    "    @logger\n",
    "    def save_books_to_csv(self, filename):\n",
    "        with open(filename, 'w', newline='', encoding='utf-8') as file:\n",
    "            writer = csv.writer(file)\n",
    "            for book in self.books:\n",
    "                writer.writerow([book.title, book.author, book.year, book.genre])\n",
    "\n",
    "\n",
    "library = Library()\n",
    "library.load_books_from_csv('books.csv')\n",
    "library.add_book(Book(\"New Book\", \"Author\", 2020, \"Genre\"))\n",
    "found_books = library.find_books(author=\"Author\")\n",
    "library.save_books_to_csv('updated_books.csv')\n"
   ]
  }
 ],
 "metadata": {
  "kernelspec": {
   "display_name": "Python 3",
   "language": "python",
   "name": "python3"
  },
  "language_info": {
   "codemirror_mode": {
    "name": "ipython",
    "version": 3
   },
   "file_extension": ".py",
   "mimetype": "text/x-python",
   "name": "python",
   "nbconvert_exporter": "python",
   "pygments_lexer": "ipython3",
   "version": "3.11.5"
  }
 },
 "nbformat": 4,
 "nbformat_minor": 2
}
