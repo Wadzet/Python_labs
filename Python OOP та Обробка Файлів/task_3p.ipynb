{
 "cells": [
  {
   "cell_type": "code",
   "execution_count": 3,
   "metadata": {},
   "outputs": [
    {
     "name": "stdout",
     "output_type": "stream",
     "text": [
      "Log written for read_lines\n",
      "Log written for count_words\n",
      "Log written for write_data\n"
     ]
    }
   ],
   "source": [
    "import time\n",
    "\n",
    "def log_decorator(func):\n",
    "    def wrapper(*args, **kwargs):\n",
    "        start_time = time.time()\n",
    "        try:\n",
    "            result = func(*args, **kwargs)\n",
    "            log_message = f\"[{time.ctime()}] Method: {func.__name__}, Result: Success\\n\"\n",
    "            return result\n",
    "        except Exception as e:\n",
    "            log_message = f\"[{time.ctime()}] Method: {func.__name__}, Exception: {e}\\n\"\n",
    "            raise e\n",
    "        finally:\n",
    "            with open(\"log.txt\", \"a\") as log_file:\n",
    "                log_file.write(log_message)\n",
    "            print(f\"Log written for {func.__name__}\")\n",
    "    return wrapper\n",
    "\n",
    "class FileProcessor:\n",
    "    def __init__(self, file_name):\n",
    "        self.file_name = file_name\n",
    "\n",
    "    @log_decorator\n",
    "    def read_lines(self):\n",
    "        try:\n",
    "            with open(self.file_name, 'r') as file:\n",
    "                return file.readlines()\n",
    "        except Exception as e:\n",
    "            raise Exception(f\"Error reading file: {e}\")\n",
    "\n",
    "    @log_decorator\n",
    "    def count_words(self):\n",
    "        try:\n",
    "            with open(self.file_name, 'r') as file:\n",
    "                return sum(len(line.split()) for line in file)\n",
    "        except Exception as e:\n",
    "            raise Exception(f\"Error counting words: {e}\")\n",
    "\n",
    "    @log_decorator\n",
    "    def write_data(self, data, filename):\n",
    "        try:\n",
    "            with open(filename, 'w') as file:\n",
    "                file.writelines(data)\n",
    "        except Exception as e:\n",
    "            raise Exception(f\"Error writing data: {e}\")\n",
    "\n",
    "\n",
    "processor = FileProcessor(\"/Users/vadymzastavnyi/Python_labs/Python OOP та Обробка Файлів/test.txt\")\n",
    "lines = processor.read_lines()\n",
    "word_count = processor.count_words()\n",
    "processor.write_data(lines, \"new_test.txt\")\n"
   ]
  }
 ],
 "metadata": {
  "kernelspec": {
   "display_name": "Python 3",
   "language": "python",
   "name": "python3"
  },
  "language_info": {
   "codemirror_mode": {
    "name": "ipython",
    "version": 3
   },
   "file_extension": ".py",
   "mimetype": "text/x-python",
   "name": "python",
   "nbconvert_exporter": "python",
   "pygments_lexer": "ipython3",
   "version": "3.11.5"
  }
 },
 "nbformat": 4,
 "nbformat_minor": 2
}
