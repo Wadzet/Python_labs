{
 "cells": [
  {
   "cell_type": "code",
   "execution_count": 5,
   "metadata": {},
   "outputs": [
    {
     "name": "stdout",
     "output_type": "stream",
     "text": [
      "Згенерований пароль: YfK8LN~amCCTBWLvl-fRHI?Tx\n"
     ]
    }
   ],
   "source": [
    "import random\n",
    "import string\n",
    "\n",
    "def get_password_requirements():\n",
    "    # Отримання вимог до пароля від користувача\n",
    "    length = int(input(\"Введіть довжину пароля: \"))\n",
    "\n",
    "    def get_user_choice(prompt):\n",
    "        while True:\n",
    "            match input(prompt).lower():\n",
    "                case \"так\":\n",
    "                    return True\n",
    "                case \"ні\":\n",
    "                    return False\n",
    "                case _:\n",
    "                    print(\"Невірний ввід, будь ласка, введіть 'так' або 'ні'\")\n",
    "\n",
    "    use_digits = get_user_choice(\"Чи включати цифри? (так/ні): \")\n",
    "    use_uppercase = get_user_choice(\"Чи включати великі літери? (так/ні): \")\n",
    "    use_lowercase = get_user_choice(\"Чи включати малі літери? (так/ні): \")\n",
    "    use_special_chars = get_user_choice(\"Чи включати спеціальні символи? (так/ні): \")\n",
    "\n",
    "    return length, use_digits, use_uppercase, use_lowercase, use_special_chars\n",
    "\n",
    "def generate_password(length, use_digits, use_uppercase, use_lowercase, use_special_chars):\n",
    "    characters = ''\n",
    "    if use_digits:\n",
    "        characters += string.digits\n",
    "    if use_uppercase:\n",
    "        characters += string.ascii_uppercase\n",
    "    if use_lowercase:\n",
    "        characters += string.ascii_lowercase\n",
    "    if use_special_chars:\n",
    "        characters += string.punctuation\n",
    "    if not characters:\n",
    "        return \"Помилка: не вибрано жодного типу символів!\"\n",
    "\n",
    "    password = ''.join(random.choice(characters) for _ in range(length))\n",
    "    return password\n",
    "\n",
    "def main():\n",
    "    while True:\n",
    "        length, use_digits, use_uppercase, use_lowercase, use_special_chars = get_password_requirements()\n",
    "        password = generate_password(length, use_digits, use_uppercase, use_lowercase, use_special_chars)\n",
    "        print(f\"Згенерований пароль: {password}\")\n",
    "\n",
    "        repeat = input(\"Створити ще один пароль? (так/ні): \").lower()\n",
    "        if repeat != 'так':\n",
    "            break\n",
    "\n",
    "if __name__ == \"__main__\":\n",
    "    main()\n"
   ]
  }
 ],
 "metadata": {
  "kernelspec": {
   "display_name": "Python 3",
   "language": "python",
   "name": "python3"
  },
  "language_info": {
   "codemirror_mode": {
    "name": "ipython",
    "version": 3
   },
   "file_extension": ".py",
   "mimetype": "text/x-python",
   "name": "python",
   "nbconvert_exporter": "python",
   "pygments_lexer": "ipython3",
   "version": "3.11.5"
  }
 },
 "nbformat": 4,
 "nbformat_minor": 2
}
